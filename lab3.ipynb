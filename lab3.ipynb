{
 "cells": [
  {
   "cell_type": "code",
   "execution_count": 1,
   "id": "4aac881c-8a70-4e53-99d1-66deb4a40135",
   "metadata": {},
   "outputs": [],
   "source": [
    "# Create two graphs G2 = (V2,E2) and G1 = (V1,E1)\n",
    "V1 = [ \"a\", \"b\", \"c\", \"d\", \"e\", \"f\" ]\n",
    "E1 = [ {\"a\", \"b\"}, {\"a\", \"c\"}, {\"a\", \"f\"}, {\"b\", \"c\"}, {\"b\", \"d\"}, {\"b\", \"f\"}, {\"c\", \"d\"}, {\"d\", \"e\"}, {\"d\",\n",
    "\"f\"}, {\"e\", \"f\"} ]\n",
    "V2 = [\"g\", \"h\", \"k\", \"m\", \"n\", \"p\"]\n",
    "E2 = [ {\"g\", \"h\"}, {\"g\", \"m\"}, {\"g\", \"p\"}, {\"h\", \"k\"}, {\"h\", \"m\"}, {\"h\", \"p\"}, {\"k\", \"p\"}, {\"k\", \"m\"}, {\"m\",\n",
    "\"n\"}, {\"n\", \"p\"} ]"
   ]
  },
  {
   "cell_type": "code",
   "execution_count": 3,
   "id": "b84ebb67-49ba-41e1-852d-a1fdaf7fe80b",
   "metadata": {},
   "outputs": [],
   "source": [
    "# Create the graphs\n",
    "G1 = (V1, E1)\n",
    "G2 = (V2, E2)"
   ]
  },
  {
   "cell_type": "code",
   "execution_count": 5,
   "id": "cc9ba5f8-305a-4207-a1df-e4361ec3db1f",
   "metadata": {},
   "outputs": [],
   "source": [
    "# Exercise 1\n",
    "# Create a function which checks if two graphs might be isomorphic\n",
    "# It should check:\n",
    "# 1. They have the same number of vertices\n",
    "# 2. They have the same number of edges\n",
    "# 3. They have the same degree sequences\n",
    "def getNumberOfVertices(graph):\n",
    "    return len(graph[0])\n",
    "\n",
    "def getNumberOfEdges(graph):\n",
    "    return len(graph[1])\n",
    "\n",
    "def getDegree(V, E):\n",
    "    counts = {v: 0 for v in V}\n",
    "    for v in V:\n",
    "        for e in E:\n",
    "            if v in e:\n",
    "                counts[v] += 1\n",
    "    return counts\n",
    "\n",
    "def getDegreeSequence(D):\n",
    "    return sorted(D.values(), reverse=True)\n"
   ]
  },
  {
   "cell_type": "code",
   "execution_count": 7,
   "id": "8f377579-b5dc-4c81-9f83-1ae16b81597d",
   "metadata": {},
   "outputs": [],
   "source": [
    "def areGraphsIsomorphic(G1, G2):\n",
    "    dtmp1 = getDegree(G1[0], G1[1])\n",
    "    dtmp2 = getDegree(G2[0], G2[1])\n",
    "    \n",
    "    if getNumberOfVertices(G1) != getNumberOfVertices(G2):\n",
    "        return False\n",
    "    \n",
    "    if getNumberOfEdges(G1) != getNumberOfEdges(G2):\n",
    "        return False\n",
    "    \n",
    "    if getDegreeSequence(dtmp1) != getDegreeSequence(dtmp2):\n",
    "        return False\n",
    "    \n",
    "    return True"
   ]
  },
  {
   "cell_type": "code",
   "execution_count": 9,
   "id": "3de81ad1-f984-400c-b503-4abaa124365b",
   "metadata": {},
   "outputs": [
    {
     "name": "stdout",
     "output_type": "stream",
     "text": [
      "Are G1 and G2 isomorphic? True\n"
     ]
    }
   ],
   "source": [
    "# Test cases\n",
    "print(\"Are G1 and G2 isomorphic?\", areGraphsIsomorphic(G1, G2))"
   ]
  },
  {
   "cell_type": "code",
   "execution_count": 11,
   "id": "e9aff202-1bbb-4db2-8a95-923f616db75d",
   "metadata": {},
   "outputs": [],
   "source": [
    "# Exercise 2\n",
    "# Create a function which returns a dictionary of the of adjacent vertices.\n",
    "def getAdjacentVertices(V, E):\n",
    "    # Initialize an empty dictionary for adjacent vertices\n",
    "    adj_dict = {v: set() for v in V}\n",
    "    \n",
    "    # Loop through each edge and add the adjacent vertices\n",
    "    for edge in E:\n",
    "        v1, v2 = list(edge)\n",
    "        adj_dict[v1].add(v2)\n",
    "        adj_dict[v2].add(v1)\n",
    "    \n",
    "    return adj_dict"
   ]
  },
  {
   "cell_type": "code",
   "execution_count": 13,
   "id": "296dddad-ed51-4fac-9c20-8f624aea7677",
   "metadata": {},
   "outputs": [
    {
     "name": "stdout",
     "output_type": "stream",
     "text": [
      "{'a': {'f', 'b', 'c'}, 'b': {'d', 'a', 'c', 'f'}, 'c': {'d', 'a', 'b'}, 'd': {'f', 'e', 'b', 'c'}, 'e': {'d', 'f'}, 'f': {'d', 'a', 'e', 'b'}}\n"
     ]
    }
   ],
   "source": [
    "# Test cases\n",
    "print(getAdjacentVertices(V1, E1))"
   ]
  },
  {
   "cell_type": "code",
   "execution_count": 15,
   "id": "4fbd7677-15d9-48e5-ba05-6ae6e66e39b9",
   "metadata": {},
   "outputs": [],
   "source": [
    "# Exercise 3\n",
    "# Create a function which returns a dictionary of the degrees of adjacent vertices. (Use the answer from question 2)\n",
    "def getDegreeOfAdjacentVertices(V, E):\n",
    "    r_dict = {v: [] for v in V}\n",
    "    adj_dict = getAdjacentVertices(V, E)\n",
    "    degree_dict = getDegree(V, E)\n",
    "    \n",
    "    # For each vertex and its adjacency set\n",
    "    for vertex, adj_vertices in adj_dict.items():\n",
    "        # Get degrees of adjacent vertices\n",
    "        degrees = [degree_dict[adj_v] for adj_v in adj_vertices]\n",
    "        # Sort in descending order\n",
    "        degrees.sort(reverse=True)\n",
    "        r_dict[vertex] = degrees\n",
    "    \n",
    "    return r_dict"
   ]
  },
  {
   "cell_type": "code",
   "execution_count": 17,
   "id": "b1a05b69-2e4a-4e1e-bdb6-16babc7a27a3",
   "metadata": {},
   "outputs": [
    {
     "name": "stdout",
     "output_type": "stream",
     "text": [
      "\n",
      "Degrees of adjacent vertices for G1:\n",
      "{'a': [4, 4, 3], 'b': [4, 4, 3, 3], 'c': [4, 4, 3], 'd': [4, 4, 3, 2], 'e': [4, 4], 'f': [4, 4, 3, 2]}\n"
     ]
    }
   ],
   "source": [
    "# Test the function\n",
    "print(\"\\nDegrees of adjacent vertices for G1:\")\n",
    "print(getDegreeOfAdjacentVertices(V1, E1))"
   ]
  },
  {
   "cell_type": "code",
   "execution_count": 19,
   "id": "2eeed93c-7fc7-4a04-8e9b-f6bd75a3ef2a",
   "metadata": {},
   "outputs": [],
   "source": [
    "# Exercise 4\n",
    "# Create another function which converts from the dictionary, to an ordered list of lists of\n",
    "# the values (not the keys).\n",
    "def convertDictToList(D):\n",
    "    tmp = [sorted(v) for v in D.values()]  # Sort each inner list\n",
    "    return sorted(tmp)"
   ]
  },
  {
   "cell_type": "code",
   "execution_count": 21,
   "id": "d636d4c2-f4cf-4c38-845f-6a6c7c1af5ad",
   "metadata": {},
   "outputs": [
    {
     "name": "stdout",
     "output_type": "stream",
     "text": [
      "\n",
      "Converted dictionary to list:\n",
      "[[2, 3, 3, 4], [2, 3, 3, 4], [3, 3, 4, 4], [4, 4], [4, 4, 4], [4, 4, 4]]\n"
     ]
    }
   ],
   "source": [
    "print(\"\\nConverted dictionary to list:\")\n",
    "print(convertDictToList(getDegreeOfAdjacentVertices(V2, E2)))"
   ]
  },
  {
   "cell_type": "code",
   "execution_count": 23,
   "id": "1e7ae6d1-a669-47dc-b234-798687b5a2c7",
   "metadata": {},
   "outputs": [
    {
     "name": "stdout",
     "output_type": "stream",
     "text": [
      "Degrees of adjacent vertices for G1 before sorting:\n",
      "{'a': [4, 4, 3], 'b': [4, 4, 3, 3], 'c': [4, 4, 3], 'd': [4, 4, 3, 2], 'e': [4, 4], 'f': [4, 4, 3, 2]}\n",
      "Degrees of adjacent vertices for G2 before sorting:\n",
      "{'g': [4, 4, 4], 'h': [4, 4, 3, 3], 'k': [4, 4, 4], 'm': [4, 3, 3, 2], 'n': [4, 4], 'p': [4, 3, 3, 2]}\n",
      "\n",
      "Ordered list of degrees of adjacent vertices for G1:\n",
      "[[2, 3, 4, 4], [2, 3, 4, 4], [3, 3, 4, 4], [3, 4, 4], [3, 4, 4], [4, 4]]\n",
      "Ordered list of degrees of adjacent vertices for G2:\n",
      "[[2, 3, 3, 4], [2, 3, 3, 4], [3, 3, 4, 4], [4, 4], [4, 4, 4], [4, 4, 4]]\n",
      "\n",
      "The graphs COULD NOT BE isomorphic\n"
     ]
    }
   ],
   "source": [
    "# Exercise 5\n",
    "# Apply that function to the answers from Exercise 3, and decide whether the graphs\n",
    "# could be isomorphic.\n",
    "\n",
    "# Apply the function from Exercise 3 to G1 and G2\n",
    "degrees_adj_G1 = getDegreeOfAdjacentVertices(V1, E1)\n",
    "degrees_adj_G2 = getDegreeOfAdjacentVertices(V2, E2)\n",
    "\n",
    "# Debug: Check degree sequences before sorting\n",
    "print(\"Degrees of adjacent vertices for G1 before sorting:\")\n",
    "print(degrees_adj_G1)\n",
    "print(\"Degrees of adjacent vertices for G2 before sorting:\")\n",
    "print(degrees_adj_G2)\n",
    "\n",
    "# Convert the results into ordered lists of lists (using the function from Exercise 4)\n",
    "ordered_list_G1 = convertDictToList(degrees_adj_G1)\n",
    "ordered_list_G2 = convertDictToList(degrees_adj_G2)\n",
    "\n",
    "# Debug: Check sorted lists\n",
    "print(\"\\nOrdered list of degrees of adjacent vertices for G1:\")\n",
    "print(ordered_list_G1)\n",
    "print(\"Ordered list of degrees of adjacent vertices for G2:\")\n",
    "print(ordered_list_G2)\n",
    "\n",
    "# Compare the two ordered lists to decide if the graphs could be isomorphic\n",
    "if ordered_list_G1 == ordered_list_G2:\n",
    "    print(\"\\nThe graphs COULD BE isomorphic.\")\n",
    "else:\n",
    "    print(\"\\nThe graphs COULD NOT BE isomorphic\")"
   ]
  }
 ],
 "metadata": {
  "kernelspec": {
   "display_name": "Python [conda env:base] *",
   "language": "python",
   "name": "conda-base-py"
  },
  "language_info": {
   "codemirror_mode": {
    "name": "ipython",
    "version": 3
   },
   "file_extension": ".py",
   "mimetype": "text/x-python",
   "name": "python",
   "nbconvert_exporter": "python",
   "pygments_lexer": "ipython3",
   "version": "3.12.7"
  }
 },
 "nbformat": 4,
 "nbformat_minor": 5
}
